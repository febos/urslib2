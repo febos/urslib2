{
 "cells": [
  {
   "cell_type": "markdown",
   "metadata": {},
   "source": [
    "# Annotation of long-range nucleotide doublets"
   ]
  },
  {
   "cell_type": "markdown",
   "metadata": {},
   "source": [
    "### Using DSSR 2.0 output file (according to the command from the DSSR.py script)"
   ]
  },
  {
   "cell_type": "code",
   "execution_count": 1,
   "metadata": {},
   "outputs": [
    {
     "name": "stdout",
     "output_type": "stream",
     "text": [
      "1 B.G.5. B.A.13.\n",
      "2 B.G.6. B.A.13.\n",
      "3 B.G.6. B.G.14.\n",
      "4 B.G.14. B.G.59.\n",
      "5 B.G.14. B.U.60.\n",
      "6 B.U.15. B.G.59.\n",
      "7 B.U.15. B.U.60.\n",
      "8 B.C.16. B.U.60.\n",
      "9 B.C.16. B.C.61.\n",
      "10 B.G.17. B.U.54.\n",
      "11 B.G.17. B.U.55.\n",
      "12 B.G.17. B.G.57.\n",
      "13 B.G.17. B.A.58.\n",
      "14 B.G.17. B.G.59.\n",
      "15 B.G.17. B.U.60.\n",
      "16 B.G.17. B.C.61.\n",
      "17 B.G.18. B.C.56.\n",
      "18 B.G.18. B.G.57.\n",
      "19 B.G.18. B.G.59.\n",
      "20 B.G.18. B.U.60.\n",
      "21 B.U.19. B.U.60.\n",
      "22 B.U.20. B.G.57.\n"
     ]
    }
   ],
   "source": [
    "from urslib2 import RSS\n",
    "import os\n",
    "\n",
    "#Sort nucleotide in dssr-format by (chain,seqnumber) pair\n",
    "def SortNucl(x):\n",
    "    return x.split('.')[0],int(x.split('.')[2])\n",
    "\n",
    "#Specify data folder\n",
    "mmcif    = 'data/'\n",
    "\n",
    "#Specify mmCIF filename\n",
    "cif = '6ugg.cif1'\n",
    "#Specify DSSR output filename\n",
    "out = '6ugg.out1'\n",
    "\n",
    "# Path + filename\n",
    "pdbmodel = mmcif+'models/'+cif\n",
    "outmodel = mmcif+'out/'+out\n",
    "\n",
    "# Build the model object from the two files\n",
    "model = RSS.SecStruct(pdbmodel,outmodel)\n",
    "\n",
    "# Get atom-atom pairs between RNA atoms at a threshold of 6.0 angstroms\n",
    "atompairs = RSS.Atompairs(model, type1 = 'R', type2 = 'R', dist = 6.0)\n",
    "\n",
    "#Specify non-redundant chains\n",
    "nr_chains = {\"B\",}\n",
    "\n",
    "#Here the doublets will be stored\n",
    "doublets = set()\n",
    "\n",
    "# Filter atom-atom pairs\n",
    "for pair in atompairs:\n",
    "    chain1 = pair['DSSR1'].split('.')[0]\n",
    "    chain2 = pair['DSSR2'].split('.')[0]\n",
    "    # Ignore contacts within a redundant chain or between two redundant chains\n",
    "    if chain1 in nr_chains or chain2 in nr_chains:\n",
    "        # Ignore non-long-range contacts\n",
    "        if model.NuclRelation(pair['DSSR1'], pair['DSSR2']) == 'LR':\n",
    "            # Ignore contacts between different bioassemblies\n",
    "            if model.headers['CHAINBIO'][chain1] == model.headers['CHAINBIO'][chain2]:\n",
    "                doublets.add(frozenset((pair['DSSR1'], pair['DSSR2'])))\n",
    "\n",
    "#Sorting long-range doublets\n",
    "doublets = sorted([sorted(tuple(d),key= SortNucl) for d in doublets], key = lambda x: (SortNucl(x[0]),\n",
    "                                                                                       SortNucl(x[1])))\n",
    "#Printing long-range doublets\n",
    "for i,doublet in enumerate(doublets):\n",
    "    print(i+1,*doublet)\n",
    "            \n"
   ]
  },
  {
   "cell_type": "markdown",
   "metadata": {},
   "source": [
    "### Using a list of secondary-structure-forming base pairs (alternative)"
   ]
  },
  {
   "cell_type": "code",
   "execution_count": 2,
   "metadata": {},
   "outputs": [
    {
     "name": "stdout",
     "output_type": "stream",
     "text": [
      "A.G.0. A.C.72. \r\n",
      "A.G.1. A.C.71. \r\n",
      "A.A.2. A.U.70. \r\n",
      "A.G.3. A.U.69. \r\n",
      "A.C.4. A.G.68. \r\n",
      "A.G.5. A.C.67. \r\n",
      "A.G.6. A.C.66. \r\n",
      "A.G.9. A.U.25. \r\n",
      "A.U.10. A.A.24. \r\n",
      "A.U.11. A.A.23. \r\n",
      "A.C.12. A.G.22. \r\n",
      "A.G.18. A.C.56. \r\n",
      "A.C.27. A.G.43. \r\n",
      "A.C.28. A.G.42. \r\n",
      "A.U.29. A.A.41. \r\n",
      "A.G.30. A.C.40. \r\n",
      "A.C.31. A.G.39. \r\n",
      "A.G.49. A.U.65. \r\n",
      "A.C.50. A.G.64. \r\n",
      "A.G.51. A.C.63. \r\n",
      "A.G.52. A.C.62. \r\n",
      "A.G.53. A.C.61. \r\n",
      "B.G.0. B.C.72. \r\n",
      "B.G.1. B.C.71. \r\n",
      "B.A.2. B.U.70. \r\n",
      "B.G.3. B.U.69. \r\n",
      "B.C.4. B.G.68. \r\n",
      "B.G.5. B.C.67. \r\n",
      "B.G.6. B.C.66. \r\n",
      "B.G.9. B.U.25. \r\n",
      "B.U.10. B.A.24. \r\n",
      "B.U.11. B.A.23. \r\n",
      "B.C.12. B.G.22. \r\n",
      "B.G.18. B.C.56. \r\n",
      "B.C.27. B.G.43. \r\n",
      "B.C.28. B.G.42. \r\n",
      "B.U.29. B.A.41. \r\n",
      "B.G.30. B.C.40. \r\n",
      "B.C.31. B.G.39. \r\n",
      "B.G.49. B.U.65. \r\n",
      "B.C.50. B.G.64. \r\n",
      "B.G.51. B.C.63. \r\n",
      "B.G.52. B.C.62. \r\n",
      "B.G.53. B.C.61.\r\n",
      "\r\n"
     ]
    }
   ],
   "source": [
    "#We will use this list of Watson-Crick + Wobble base pairs \n",
    "!cat data/bps/6ugg.bps"
   ]
  },
  {
   "cell_type": "code",
   "execution_count": 3,
   "metadata": {},
   "outputs": [
    {
     "name": "stdout",
     "output_type": "stream",
     "text": [
      "1 B.G.5. B.A.13.\n",
      "2 B.G.6. B.A.13.\n",
      "3 B.G.6. B.G.14.\n",
      "4 B.G.14. B.G.59.\n",
      "5 B.G.14. B.U.60.\n",
      "6 B.U.15. B.G.59.\n",
      "7 B.U.15. B.U.60.\n",
      "8 B.C.16. B.U.60.\n",
      "9 B.C.16. B.C.61.\n",
      "10 B.G.17. B.U.54.\n",
      "11 B.G.17. B.U.55.\n",
      "12 B.G.17. B.G.57.\n",
      "13 B.G.17. B.A.58.\n",
      "14 B.G.17. B.G.59.\n",
      "15 B.G.17. B.U.60.\n",
      "16 B.G.17. B.C.61.\n",
      "17 B.G.18. B.C.56.\n",
      "18 B.G.18. B.G.57.\n",
      "19 B.G.18. B.G.59.\n",
      "20 B.G.18. B.U.60.\n",
      "21 B.U.19. B.U.60.\n",
      "22 B.U.20. B.G.57.\n"
     ]
    }
   ],
   "source": [
    "from urslib2 import RSS\n",
    "import os\n",
    "\n",
    "#Sort nucleotide in dssr-format by (chain,seqnumber) pair\n",
    "def SortNucl(x):\n",
    "    return x.split('.')[0],int(x.split('.')[2])\n",
    "\n",
    "#Specify data folder\n",
    "mmcif    = 'data/'\n",
    "\n",
    "#Specify mmCIF filename\n",
    "cif = '6ugg.cif1'\n",
    "#Specify DSSR output filename\n",
    "bps = '6ugg.bps'\n",
    "\n",
    "# Path + filename\n",
    "pdbmodel = mmcif+'models/'+cif\n",
    "bpslist = mmcif+'bps/'+bps\n",
    "\n",
    "# Build the model object from the two files\n",
    "model = RSS.SecStruct(pdbmodel,wcwblist=bpslist)\n",
    "\n",
    "# Get atom-atom pairs between RNA atoms at a threshold of 6.0 angstroms\n",
    "atompairs = RSS.Atompairs(model, type1 = 'R', type2 = 'R', dist = 6.0)\n",
    "\n",
    "#Specify non-redundant chains\n",
    "nr_chains = {\"B\",}\n",
    "\n",
    "#Here the doublets will be stored\n",
    "doublets = set()\n",
    "\n",
    "# Filter atom-atom pairs\n",
    "for pair in atompairs:\n",
    "    chain1 = pair['DSSR1'].split('.')[0]\n",
    "    chain2 = pair['DSSR2'].split('.')[0]\n",
    "    # Ignore contacts within a redundant chain or between two redundant chains\n",
    "    if chain1 in nr_chains or chain2 in nr_chains:\n",
    "        # Ignore non-long-range contacts\n",
    "        if model.NuclRelation(pair['DSSR1'], pair['DSSR2']) == 'LR':\n",
    "            # Ignore contacts between different bioassemblies\n",
    "            if model.headers['CHAINBIO'][chain1] == model.headers['CHAINBIO'][chain2]:\n",
    "                doublets.add(frozenset((pair['DSSR1'], pair['DSSR2'])))\n",
    "\n",
    "#Sorting long-range doublets\n",
    "doublets = sorted([sorted(tuple(d),key= SortNucl) for d in doublets], key = lambda x: (SortNucl(x[0]),\n",
    "                                                                                       SortNucl(x[1])))\n",
    "#Printing long-range doublets\n",
    "for i,doublet in enumerate(doublets):\n",
    "    print(i+1,*doublet)\n",
    "            \n"
   ]
  },
  {
   "cell_type": "code",
   "execution_count": null,
   "metadata": {},
   "outputs": [],
   "source": []
  }
 ],
 "metadata": {
  "kernelspec": {
   "display_name": "Python 3 (ipykernel)",
   "language": "python",
   "name": "python3"
  },
  "language_info": {
   "codemirror_mode": {
    "name": "ipython",
    "version": 3
   },
   "file_extension": ".py",
   "mimetype": "text/x-python",
   "name": "python",
   "nbconvert_exporter": "python",
   "pygments_lexer": "ipython3",
   "version": "3.8.10"
  }
 },
 "nbformat": 4,
 "nbformat_minor": 4
}
