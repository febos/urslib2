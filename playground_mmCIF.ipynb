{
 "cells": [
  {
   "cell_type": "code",
   "execution_count": 1,
   "metadata": {},
   "outputs": [],
   "source": [
    "from urslib2 import mmCIF\n",
    "from urslib2.SS.Relation import GetNuclByDSSR"
   ]
  },
  {
   "cell_type": "code",
   "execution_count": 2,
   "metadata": {},
   "outputs": [],
   "source": [
    "modelpath = \"/home/baulin/Desktop/urs2/urslib2/data/models/1ffk.cif1\"\n",
    "\n",
    "model = mmCIF.Model(modelpath)\n"
   ]
  },
  {
   "cell_type": "code",
   "execution_count": 3,
   "metadata": {},
   "outputs": [],
   "source": [
    "dssr_code = '9.U.1.'\n",
    "\n",
    "nucl = GetNuclByDSSR(model,dssr_code)"
   ]
  },
  {
   "cell_type": "code",
   "execution_count": 4,
   "metadata": {},
   "outputs": [
    {
     "data": {
      "text/plain": [
       "dict_keys(['ID', 'CIFID', 'TYPE', 'PDBNUM', 'NAME', 'CHAIN', 'ATOMS', 'FLOAT', 'DSSR', 'MISS', 'WING', 'OLDWING', 'FSTEMS', 'THREAD', 'ZIP', 'LUMULT', 'MULT', 'BPS', 'BRACKETS', 'SLBRACKETS'])"
      ]
     },
     "execution_count": 4,
     "metadata": {},
     "output_type": "execute_result"
    }
   ],
   "source": [
    "nucl.keys()"
   ]
  },
  {
   "cell_type": "code",
   "execution_count": 5,
   "metadata": {},
   "outputs": [
    {
     "data": {
      "text/plain": [
       "17"
      ]
     },
     "execution_count": 5,
     "metadata": {},
     "output_type": "execute_result"
    }
   ],
   "source": [
    "len(nucl['ATOMS'])"
   ]
  },
  {
   "cell_type": "code",
   "execution_count": 6,
   "metadata": {},
   "outputs": [
    {
     "data": {
      "text/plain": [
       "{'ID': 58194,\n",
       " 'NUM': 58013,\n",
       " 'NAME': \"O5'\",\n",
       " 'ALTLOC': ' ',\n",
       " 'RESNAME': 'U',\n",
       " 'CHAIN': '9',\n",
       " 'TYPE': 'RNA',\n",
       " 'RESNUM': '1 ',\n",
       " 'X': 48.736,\n",
       " 'Y': 18.504,\n",
       " 'Z': 99.192,\n",
       " 'OCCUP': 1.0,\n",
       " 'TEMPF': '104.43',\n",
       " 'ELEM': 'O',\n",
       " 'BONDS': 0,\n",
       " 'CIFID': 1,\n",
       " 'ORIG': ['ATOM',\n",
       "  '58013',\n",
       "  'O',\n",
       "  '\"O5\\'\"',\n",
       "  '.',\n",
       "  'U',\n",
       "  'B',\n",
       "  '2',\n",
       "  '1',\n",
       "  '?',\n",
       "  '48.736',\n",
       "  '18.504',\n",
       "  '99.192',\n",
       "  '1.00',\n",
       "  '104.43',\n",
       "  '?',\n",
       "  '1',\n",
       "  'U',\n",
       "  '9',\n",
       "  '\"O5\\'\"',\n",
       "  '1']}"
      ]
     },
     "execution_count": 6,
     "metadata": {},
     "output_type": "execute_result"
    }
   ],
   "source": [
    "nucl['ATOMS'][0]"
   ]
  },
  {
   "cell_type": "code",
   "execution_count": null,
   "metadata": {},
   "outputs": [],
   "source": []
  },
  {
   "cell_type": "code",
   "execution_count": null,
   "metadata": {},
   "outputs": [],
   "source": []
  },
  {
   "cell_type": "code",
   "execution_count": null,
   "metadata": {},
   "outputs": [],
   "source": []
  },
  {
   "cell_type": "code",
   "execution_count": null,
   "metadata": {},
   "outputs": [],
   "source": []
  },
  {
   "cell_type": "code",
   "execution_count": null,
   "metadata": {},
   "outputs": [],
   "source": []
  },
  {
   "cell_type": "code",
   "execution_count": null,
   "metadata": {},
   "outputs": [],
   "source": []
  },
  {
   "cell_type": "code",
   "execution_count": null,
   "metadata": {},
   "outputs": [],
   "source": []
  },
  {
   "cell_type": "code",
   "execution_count": null,
   "metadata": {},
   "outputs": [],
   "source": []
  },
  {
   "cell_type": "code",
   "execution_count": null,
   "metadata": {},
   "outputs": [],
   "source": []
  }
 ],
 "metadata": {
  "kernelspec": {
   "display_name": "Python 3",
   "language": "python",
   "name": "python3"
  },
  "language_info": {
   "codemirror_mode": {
    "name": "ipython",
    "version": 3
   },
   "file_extension": ".py",
   "mimetype": "text/x-python",
   "name": "python",
   "nbconvert_exporter": "python",
   "pygments_lexer": "ipython3",
   "version": "3.8.10"
  }
 },
 "nbformat": 4,
 "nbformat_minor": 4
}
