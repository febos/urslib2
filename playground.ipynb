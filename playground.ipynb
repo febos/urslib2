{
 "cells": [
  {
   "cell_type": "code",
   "execution_count": 1,
   "metadata": {},
   "outputs": [],
   "source": [
    "from urslib2 import RSS, DSSR\n",
    "import os"
   ]
  },
  {
   "cell_type": "code",
   "execution_count": 1,
   "metadata": {},
   "outputs": [],
   "source": [
    "# Create models from files"
   ]
  },
  {
   "cell_type": "code",
   "execution_count": 6,
   "metadata": {},
   "outputs": [],
   "source": [
    "\n",
    "# Data directory, have to contain two sub-directories - models with cif-files and out with out-files \n",
    "mmcif    = '/home/baulin/Desktop/urs2/data/'\n",
    "\n",
    "# Two example filenames\n",
    "pdb = '1ffk.cif1'\n",
    "out = '1ffk.out1'\n",
    "\n",
    "# Path + filename\n",
    "pdbmodel = mmcif+'models/'+pdb\n",
    "outmodel = mmcif+'out/'+out\n",
    "\n",
    "# If required cif-file exists:\n",
    "if os.path.exists(pdbmodel):\n",
    "    \n",
    "    # Create out-file if it does not exist\n",
    "    if not os.path.exists(outmodel):\n",
    "        \n",
    "        DSSR.run(pdbmodel, mmcif+'out/')\n",
    "        \n",
    "    # Create the structure object from the two files\n",
    "    model = RSS.SecStruct(pdbmodel,outmodel)\n"
   ]
  },
  {
   "cell_type": "code",
   "execution_count": 2,
   "metadata": {},
   "outputs": [],
   "source": [
    "from urslib2.Rfam import GetRfamInfo"
   ]
  },
  {
   "cell_type": "code",
   "execution_count": 3,
   "metadata": {},
   "outputs": [
    {
     "name": "stdout",
     "output_type": "stream",
     "text": [
      "Help on function GetRfamInfo in module urslib2.Rfam:\n",
      "\n",
      "GetRfamInfo(path_to_rfam_files='', update=False)\n",
      "    Parameters:\n",
      "        path_to_rfam_files - path to family.txt and pdb_full_region.txt (by default - working directory)\n",
      "        update - True/False - download new family.txt and pdb_full_region.txt\n",
      "    Returns:\n",
      "        dictionary {PDB-ID: {CHAIN: RFAM_INFO}}\n",
      "\n"
     ]
    }
   ],
   "source": [
    "help(GetRfamInfo)"
   ]
  },
  {
   "cell_type": "code",
   "execution_count": 4,
   "metadata": {},
   "outputs": [
    {
     "name": "stdout",
     "output_type": "stream",
     "text": [
      "Beginning Rfam download with urllib...\n",
      "Unpacking...\n",
      "Complete.\n"
     ]
    },
    {
     "data": {
      "text/plain": [
       "{}"
      ]
     },
     "execution_count": 4,
     "metadata": {},
     "output_type": "execute_result"
    }
   ],
   "source": [
    "GetRfamInfo()"
   ]
  },
  {
   "cell_type": "code",
   "execution_count": null,
   "metadata": {},
   "outputs": [],
   "source": []
  },
  {
   "cell_type": "code",
   "execution_count": null,
   "metadata": {},
   "outputs": [],
   "source": []
  },
  {
   "cell_type": "code",
   "execution_count": null,
   "metadata": {},
   "outputs": [],
   "source": []
  }
 ],
 "metadata": {
  "kernelspec": {
   "display_name": "Python 3",
   "language": "python",
   "name": "python3"
  },
  "language_info": {
   "codemirror_mode": {
    "name": "ipython",
    "version": 3
   },
   "file_extension": ".py",
   "mimetype": "text/x-python",
   "name": "python",
   "nbconvert_exporter": "python",
   "pygments_lexer": "ipython3",
   "version": "3.8.5"
  }
 },
 "nbformat": 4,
 "nbformat_minor": 4
}
