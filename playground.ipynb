{
 "cells": [
  {
   "cell_type": "code",
   "execution_count": 1,
   "metadata": {},
   "outputs": [],
   "source": [
    "from urslib2 import RSS, DSSR, SplitmmCIF, Rfam, SplitPDB\n",
    "import os"
   ]
  },
  {
   "cell_type": "code",
   "execution_count": 2,
   "metadata": {},
   "outputs": [
    {
     "name": "stdout",
     "output_type": "stream",
     "text": [
      "1/1 1ffk.cif is successfully divided into models.\n",
      "Time: 0 min 0 sec\n"
     ]
    }
   ],
   "source": [
    "## Create models from files\n",
    "\n",
    "path_to_files = '/home/ebaulin/eugene/work/urs2/urslib2/data/files/'\n",
    "path_to_models = '/home/ebaulin/eugene/work/urs2/urslib2/data/models/'\n",
    "\n",
    "SplitmmCIF.All(path_to_files,path_to_models)\n"
   ]
  },
  {
   "cell_type": "code",
   "execution_count": 3,
   "metadata": {},
   "outputs": [
    {
     "name": "stdout",
     "output_type": "stream",
     "text": [
      "1/1 6dtd.pdb is successfully divided into models.\n",
      "Time: 0 min 0 sec\n"
     ]
    }
   ],
   "source": [
    "SplitPDB.All(path_to_files,path_to_models)"
   ]
  },
  {
   "cell_type": "code",
   "execution_count": 2,
   "metadata": {},
   "outputs": [],
   "source": [
    "## Create a model object for a PDB-entry\n",
    "\n",
    "\n",
    "# Data directory, have to contain two sub-directories - models with cif-files and out with out-files \n",
    "mmcif    = '/home/ebaulin/eugene/work/urs2/urslib2/data/'\n",
    "\n",
    "# Two example filenames\n",
    "pdb = '1ffk.cif1'\n",
    "out = '1ffk.out1'\n",
    "\n",
    "# Path + filename\n",
    "pdbmodel = mmcif+'models/'+pdb\n",
    "outmodel = mmcif+'out/'+out\n",
    "\n",
    "# If required cif-file exists:\n",
    "if os.path.exists(pdbmodel):\n",
    "    \n",
    "    # Create out-file if it does not exist\n",
    "    if not os.path.exists(outmodel):\n",
    "        \n",
    "        DSSR.run(pdbmodel, mmcif+'out/')\n",
    "        \n",
    "    # Create the structure object from the two files\n",
    "    model = RSS.SecStruct(pdbmodel,outmodel)\n"
   ]
  },
  {
   "cell_type": "code",
   "execution_count": 5,
   "metadata": {},
   "outputs": [
    {
     "data": {
      "text/plain": [
       "dict_keys(['0', '9', 'A', 'B', 'C', 'D', 'E', 'F', 'G', 'H', 'I', 'J', 'K', 'L', 'M', 'N', 'O', 'P', 'Q', 'R', 'S', 'T', 'U', 'V', 'W', 'X', 'Y', 'Z', '1'])"
      ]
     },
     "execution_count": 5,
     "metadata": {},
     "output_type": "execute_result"
    }
   ],
   "source": [
    "model.chains.keys()"
   ]
  },
  {
   "cell_type": "code",
   "execution_count": 7,
   "metadata": {},
   "outputs": [
    {
     "name": "stdout",
     "output_type": "stream",
     "text": [
      "Help on function GetRfamInfo in module urslib2.Rfam:\n",
      "\n",
      "GetRfamInfo(path_to_rfam_files='', update=False, rfam_ftp='ftp://ftp.ebi.ac.uk/pub/databases/Rfam/CURRENT/database_files/')\n",
      "    Parameters:\n",
      "        path_to_rfam_files - path to family.txt and pdb_full_region.txt (by default - working directory)\n",
      "        update - True/False - download new family.txt and pdb_full_region.txt\n",
      "        rfam_ftp - source URL for Rfam files\n",
      "    Returns:\n",
      "        dictionary {PDB-ID: {CHAIN: RFAM_INFO}}\n",
      "\n"
     ]
    }
   ],
   "source": [
    "help(Rfam.GetRfamInfo)"
   ]
  },
  {
   "cell_type": "code",
   "execution_count": 8,
   "metadata": {},
   "outputs": [
    {
     "data": {
      "text/plain": [
       "['RF02540', 'LSU_rRNA_archaea', 'Archaeal large subunit ribosomal RNA']"
      ]
     },
     "execution_count": 8,
     "metadata": {},
     "output_type": "execute_result"
    }
   ],
   "source": [
    "## Get Rfam annotations for RNA chains from PDB files\n",
    "\n",
    "rfam = Rfam.GetRfamInfo()\n",
    "rfam['1ffk']['0']"
   ]
  },
  {
   "cell_type": "code",
   "execution_count": null,
   "metadata": {},
   "outputs": [],
   "source": []
  },
  {
   "cell_type": "code",
   "execution_count": 9,
   "metadata": {},
   "outputs": [
    {
     "name": "stdout",
     "output_type": "stream",
     "text": [
      "Help on function Atompairs in module urslib2.RSS:\n",
      "\n",
      "Atompairs(model, type1='', type2='', dist=4)\n",
      "    Parameters:\n",
      "        model - object of PDB-entry, created with SecStruct function\n",
      "        type1, type2 - strings of molecule types: R = RNA, D = DNA, P = Protein, L = Ligand, M = Metal, W = Water.\n",
      "            Example: type1 = 'RD', type2 = 'MW' - find all contacts of nucleic acid atoms with metals and water\n",
      "        dist - maximal distance in angstroms\n",
      "    Returns:\n",
      "        list of pairs of close atoms of form {DSSR1:     residue1-dssrid,\n",
      "                                              DSSR2:     residue2-dssrid,\n",
      "                                            'atom1':         atomname1,\n",
      "                                            'atom2':         atomname2,\n",
      "                                             'dist':           distance,\n",
      "                                             'type':  restype1+restype2}\n",
      "\n"
     ]
    }
   ],
   "source": [
    "## Get a set of pairs of close atoms\n",
    "\n",
    "help(RSS.Atompairs)"
   ]
  },
  {
   "cell_type": "code",
   "execution_count": 20,
   "metadata": {},
   "outputs": [
    {
     "name": "stdout",
     "output_type": "stream",
     "text": [
      "{'DSSR1': '0.G.13.', 'DSSR2': 'O.GLN.61.', 'atom1': 'OP1', 'atom2': 'CA', 'dist': 4.302435821717742, 'type': 'RP'}\n",
      "{'DSSR1': '0.U.19.', 'DSSR2': 'O.SER.5.', 'atom1': \"C2'\", 'atom2': 'CA', 'dist': 4.354945120205287, 'type': 'RP'}\n",
      "{'DSSR1': '0.U.19.', 'DSSR2': 'O.SER.5.', 'atom1': \"O2'\", 'atom2': 'CA', 'dist': 3.3868513401092586, 'type': 'RP'}\n",
      "{'DSSR1': '0.G.20.', 'DSSR2': 'O.SER.5.', 'atom1': \"C5'\", 'atom2': 'CA', 'dist': 4.45814232612642, 'type': 'RP'}\n",
      "{'DSSR1': '0.G.20.', 'DSSR2': 'O.SER.5.', 'atom1': \"C4'\", 'atom2': 'CA', 'dist': 4.0119482798261386, 'type': 'RP'}\n"
     ]
    }
   ],
   "source": [
    "atompairs = RSS.Atompairs(model, type1 = 'R', type2 = 'P', dist = 4.5)\n",
    "\n",
    "for pair in atompairs[:5]:\n",
    "    \n",
    "    print(pair)"
   ]
  },
  {
   "cell_type": "code",
   "execution_count": 4,
   "metadata": {},
   "outputs": [
    {
     "name": "stdout",
     "output_type": "stream",
     "text": [
      "G\n",
      "RNA\n",
      "dict_keys(['ID', 'CIFID', 'TYPE', 'PDBNUM', 'NAME', 'CHAIN', 'ATOMS', 'FLOAT', 'DSSR', 'MISS', 'WING', 'OLDWING', 'FSTEMS', 'THREAD', 'ZIP', 'LUMULT', 'MULT', 'BPS', 'BRACKETS', 'SLBRACKETS', 'ATOMNAMEDICT'])\n",
      "\n",
      "\n",
      "0.A.52. S\n",
      "0.C.53. S\n",
      "0.G.54. S\n",
      "0.U.55. S\n",
      "0.G.56. HP\n",
      "0.C.57. SHP\n",
      "0.C.58. SHP\n",
      "0.A.59. HPIC\n",
      "0.A.60. HPIC\n",
      "0.G.61. SHP\n",
      "\n",
      "\n",
      "0.U.55. 0.G.54. SM\n",
      "0.G.56. 0.G.61. LC\n",
      "0.U.55. 0.G.61. NR\n",
      "0.G.47. 0.G.66. LR\n",
      "O.SER.5. 0.G.66. NA\n",
      "\n",
      "\n",
      "-1\n",
      "19\n",
      "1\n"
     ]
    }
   ],
   "source": [
    "## useful utilities\n",
    "\n",
    "# model.dssrnucls dictionary: key = DSSR-ID, value = [chain, mode, index] triple:\n",
    "# chain - identifier of a chain\n",
    "# mode - RES (residues) or LIGANDS (ligands)\n",
    "# index - index in the list of residues or ligands\n",
    "# one can access the residue object with model.chains[chain][mode][index]\n",
    "\n",
    "chain, mode, index = model.dssrnucls['0.G.54.']\n",
    "\n",
    "residue = model.chains[chain][mode][index]\n",
    "\n",
    "print(residue['NAME'])\n",
    "print(residue['TYPE'])\n",
    "print(residue.keys())\n",
    "\n",
    "print('\\n')\n",
    "\n",
    "# model.NuclSS function: input = DSSR-ID, output = Secondary Structure Element(s):\n",
    "# S = Stem, \n",
    "# H = Hairpin, B = Bulge, I = Internal loop, J = Multiple junction\n",
    "# C = Classical, I = Isolated, P = Pseudoknotted\n",
    "\n",
    "for n in model.chains['0']['RES'][50:60]:\n",
    "    \n",
    "    print(n['DSSR'], model.NuclSS(n['DSSR']))\n",
    "\n",
    "print('\\n')\n",
    "\n",
    "# model.NuclRelation function: input = two DSSR-IDs, output = relative position of two residues \n",
    "# within RNA secondary structure:\n",
    "# SM - same, i.e. within the same element, \n",
    "# LC - local, i.e. adjacent stem and loop,\n",
    "# NR - neighbor, i.e. neighbor stems (one loop apart) or neighbor loops (one stem apart),\n",
    "# LR - long-range, i.e. from distant elements\n",
    "# NA - n/a\n",
    "\n",
    "\n",
    "\n",
    "print('0.U.55.','0.G.54.',model.NuclRelation('0.U.55.','0.G.54.'))\n",
    "print('0.G.56.','0.G.61.',model.NuclRelation('0.G.56.','0.G.61.'))\n",
    "print('0.U.55.','0.G.61.',model.NuclRelation('0.U.55.','0.G.61.'))\n",
    "print('0.G.47.','0.G.66.',model.NuclRelation('0.G.47.','0.G.66.'))\n",
    "print('O.SER.5.','0.G.66.',model.NuclRelation('O.SER.5.','0.G.66.'))\n",
    "\n",
    "print('\\n')\n",
    "\n",
    "# model.SeqDist function: input = two DSSR-IDs, output = distance between residues in sequence\n",
    "# or -1 for residues from different chains\n",
    "\n",
    "print(model.SeqDist('O.SER.5.','0.G.66.'))\n",
    "print(model.SeqDist('0.G.47.','0.G.66.'))\n",
    "print(model.SeqDist('0.U.55.','0.G.56.'))"
   ]
  },
  {
   "cell_type": "code",
   "execution_count": 14,
   "metadata": {},
   "outputs": [
    {
     "name": "stdout",
     "output_type": "stream",
     "text": [
      "DSSR base pairs:\n",
      "{'ID': 1, 'NUCL1': ['0.U.12.', 'RES', 10], 'NUCL2': ['0.G.531.', 'RES', 529], 'PAIR': '0.U.12.-0.G.531.', 'BOND': 'U-G', 'TYPE': '-S', 'CLASS': ['--', 'tHS', 'tM-m'], 'CHAIN1': '0', 'CHAIN2': '0', 'INFO1': \"-171.2(anti) ~C3'-endo lambda=8.4\", 'INFO2': \"-159.4(anti) ~C3'-endo lambda=97.9\", 'DIST1': 10.93, 'DIST2': 9.76, 'DIST3': 10.33, 'TOR': -76.3, 'HBONDSNUM': 1, 'HBONDS': ['O4(carbonyl)-N2(amino)[2.99]'], 'PARAMS': '[-7.75   -3.20   0.40    -11.69  2.97    -4.39]', 'SHEAR': '-7.75', 'STRETCH': '-3.20', 'STAGGER': '0.40', 'BUCKLE': '-11.69', 'PROPELLER': '2.97', 'OPENING': '-4.39', 'STEM': None, 'OLDSTEM': None, 'FULLSTEM': 1, 'REVSTEM': None, 'LUSTEM': None, 'LINK': 1, 'HELIX': 1, 'NUCLMULT': None, 'STEP': '1.27 -1.68 2.98 -2.92 6.23 50.89'} \n",
      "\n",
      "DSSR multiplets:\n",
      "{'ID': 1, 'SIZE': 3, 'NUCLS': [['0.G.32.', 'RES', 30], ['0.C.451.', 'RES', 449], ['0.G.456.', 'RES', 454]], 'SEQ': 'GCG', 'PLANARITY': 0.308} \n",
      "\n",
      "DSSR non-pairing interactions:\n",
      "{'ID': 1, 'NUCL1': '0.U.10.', 'NUCL2': '0.A.11.', 'STACKING': '\\\\N', 'HBONDSNUM': 3, 'HBONDS': \"O2'(hydroxyl)-OP2[2.54],O2'(hydroxyl)-O5'[2.42],O2'(hydroxyl)-O4'[2.56]\", 'MINDIST': '', 'ANGLE': '84'} \n",
      "\n",
      "DSSR A-minors:\n",
      "{'ID': 1, 'TYPE': 'X', 'CLASS': 'A|A-U', 'NUCL': '0.A.11.', 'PAIR': 1015, 'BONDS1': [\"N6(amino)-O2'(hydroxyl)[3.22]\", \"N1-O2'(hydroxyl)[2.82]\"], 'BONDS2': []} \n",
      "\n",
      "DSSR U-turns:\n",
      "{'ID': 1, 'NUCL1': '0.G.314.', 'NUCL2': '0.A.317.', 'BONDS': ['\"N1(imino)-OP2[2.80]', \"N2(amino)-O5'[2.91]\", 'N2(amino)-O4\\'[2.93]\"']} \n",
      "\n",
      "DSSR ribose-zippers:\n",
      "{'ID': 1, 'LENGTH': 4, 'SEQ': 'UUAG', 'NUCLS': [['0.U.26.', 'RES', 24], ['0.U.27.', 'RES', 25], ['0.A.1318.', 'RES', 1316], ['0.G.1319.', 'RES', 1317]]} \n",
      "\n",
      "DSSR kink-turns:\n",
      "{'ID': 1, 'PAIR': 70, 'HELIX': '\\\\N', 'STEM1': 13, 'STEM2': 12, 'ILOOP': 41, 'TYPE': 0, 'STRAND1': '1..0.G.91.,1..0.G.92.,1..0.C.93.,1..0.G.94.,1..0.A.95.,1..0.A.96.,1..0.G.97.,1..0.A.98.,1..0.A.99.,1..0.C.100.,1..0.C.101.,1..0.A.102.,1..0.U.103.,1..0.G.104.,1..0.G.105.', 'STRAND2': '1..0.C.72.,1..0.C.73.,1..0.A.74.,1..0.U.75.,1..0.G.76.,1..0.G.77.,1..0.G.78.,1..0.G.79.,1..0.A.80.,1..0.G.81.,1..0.C.82.,1..0.C.83.'} \n",
      "\n",
      "DSSR atom-base capping interactions:\n",
      "{'ID': 1, 'TYPE': 'sugar', 'ATOM': \"O4'\", 'ATOMBASE': '0.G.13.', 'BASE': '0.U.12.', 'RISE': 3.25} \n",
      "\n",
      "DSSR non-stem base stacks:\n",
      "[2, ['0.C.29.', '0.U.30.']] \n",
      "\n"
     ]
    }
   ],
   "source": [
    "## DSSR motifs\n",
    "\n",
    "print('DSSR base pairs:')\n",
    "\n",
    "print(model.bpairs[0],'\\n')\n",
    "\n",
    "print('DSSR multiplets:')\n",
    "\n",
    "print(model.lumults[0],'\\n')\n",
    "\n",
    "print('DSSR non-pairing interactions:')\n",
    "\n",
    "print(model.non_pairs[0],'\\n')\n",
    "\n",
    "print('DSSR A-minors:')\n",
    "\n",
    "print(model.a_minors[0],'\\n')\n",
    "\n",
    "print('DSSR U-turns:')\n",
    "\n",
    "print(model.u_turns[0],'\\n')\n",
    "\n",
    "print('DSSR ribose-zippers:')\n",
    "\n",
    "print(model.ribzips[0],'\\n')\n",
    "\n",
    "print('DSSR kink-turns:')\n",
    "\n",
    "print(model.k_turns[0],'\\n')\n",
    "\n",
    "print('DSSR atom-base capping interactions:')\n",
    "\n",
    "print(model.abcaps[0],'\\n')\n",
    "\n",
    "print('DSSR non-stem base stacks:')\n",
    "\n",
    "print(model.stacks[0],'\\n')\n"
   ]
  },
  {
   "cell_type": "code",
   "execution_count": 3,
   "metadata": {},
   "outputs": [
    {
     "name": "stdout",
     "output_type": "stream",
     "text": [
      "BIE/BWE motifs:\n",
      "{'TYPE': 'BIE', 'NUCLS': ['9.C.64.', '9.C.113.', '9.A.65.'], 'STACK1': ['2.5(0.2)', 'pp(><,inward)'], 'STACK2': ['2.9(2.0)', 'mm(<>,outward)']} \n",
      "\n",
      "Helical stacking:\n",
      "{'BP1': ['0.G.33.', '0.C.450.'], 'BP2': ['0.C.34.', '0.G.448.'], 'STACKING': [['0.G.33.', '0.C.34.', '7.2(4.2)--pm(>>,forward)', '', '2'], ['0.C.450.', '0.G.448.', '2.8(0.2)--mp(<<,backward)', '', '5']]} \n",
      "\n",
      "Dinucleotide platform:\n",
      "{'NUCL1': '0.G.44.', 'NUCL2': '0.A.45.', 'BPID': 37} ['--', 'cSH', 'cm+M'] \n",
      "\n",
      "Internal loop motifs (TandemGA; UAA/GAN):\n",
      "{'TYPE': 'UAA/GAN', 'STRAND1': ['0.U.664.', '0.A.665.', '0.A.666.'], 'STRAND2': ['0.G.680.', '0.G.681.', '0.A.682.']} \n",
      "\n",
      "Tetraloops:\n",
      "{'SEQ': 'U,C,A,C', 'NUCLS': ['0.U.253.', '0.C.254.', '0.A.255.', '0.C.256.']} \n",
      "\n"
     ]
    }
   ],
   "source": [
    "print('BIE/BWE motifs:')\n",
    "\n",
    "print(model.biebwe[0],'\\n')\n",
    "\n",
    "print('Helical stacking:')\n",
    "\n",
    "print(model.helicalstacking[0],'\\n')\n",
    "\n",
    "print('Dinucleotide platform:')\n",
    "\n",
    "print(model.nnplatform[0], model.bpairs[model.nnplatform[0]['BPID']-1]['CLASS'],'\\n')\n",
    "\n",
    "print('Internal loop motifs (TandemGA; UAA/GAN):')\n",
    "\n",
    "print(model.intloopmotif[0],'\\n')\n",
    "\n",
    "print('Tetraloops:')\n",
    "\n",
    "print(model.tetraloop[0],'\\n')"
   ]
  },
  {
   "cell_type": "code",
   "execution_count": null,
   "metadata": {},
   "outputs": [],
   "source": []
  },
  {
   "cell_type": "code",
   "execution_count": null,
   "metadata": {},
   "outputs": [],
   "source": []
  },
  {
   "cell_type": "code",
   "execution_count": null,
   "metadata": {},
   "outputs": [],
   "source": []
  },
  {
   "cell_type": "code",
   "execution_count": null,
   "metadata": {},
   "outputs": [],
   "source": []
  },
  {
   "cell_type": "code",
   "execution_count": null,
   "metadata": {},
   "outputs": [],
   "source": []
  },
  {
   "cell_type": "code",
   "execution_count": null,
   "metadata": {},
   "outputs": [],
   "source": []
  },
  {
   "cell_type": "code",
   "execution_count": null,
   "metadata": {},
   "outputs": [],
   "source": []
  },
  {
   "cell_type": "code",
   "execution_count": null,
   "metadata": {},
   "outputs": [],
   "source": []
  },
  {
   "cell_type": "code",
   "execution_count": null,
   "metadata": {},
   "outputs": [],
   "source": []
  }
 ],
 "metadata": {
  "kernelspec": {
   "display_name": "Python 3 (ipykernel)",
   "language": "python",
   "name": "python3"
  },
  "language_info": {
   "codemirror_mode": {
    "name": "ipython",
    "version": 3
   },
   "file_extension": ".py",
   "mimetype": "text/x-python",
   "name": "python",
   "nbconvert_exporter": "python",
   "pygments_lexer": "ipython3",
   "version": "3.8.10"
  }
 },
 "nbformat": 4,
 "nbformat_minor": 4
}
