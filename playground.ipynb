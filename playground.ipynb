{
 "cells": [
  {
   "cell_type": "code",
   "execution_count": 8,
   "metadata": {},
   "outputs": [],
   "source": [
    "from urslib2 import RSS, DSSR, SplitmmCIF, Rfam\n",
    "import os"
   ]
  },
  {
   "cell_type": "code",
   "execution_count": 9,
   "metadata": {},
   "outputs": [
    {
     "name": "stdout",
     "output_type": "stream",
     "text": [
      "1/1 1ffk.cif is successfully divided into models.\n",
      "Time: 0 min 1 sec\n"
     ]
    }
   ],
   "source": [
    "# Create models from files\n",
    "\n",
    "path_to_files = '/home/baulin/Desktop/urs2/urslib2/data/files/'\n",
    "path_to_models = '/home/baulin/Desktop/urs2/urslib2/data/models/'\n",
    "\n",
    "SplitmmCIF.All(path_to_files,path_to_models)\n"
   ]
  },
  {
   "cell_type": "code",
   "execution_count": 12,
   "metadata": {},
   "outputs": [],
   "source": [
    "\n",
    "# Data directory, have to contain two sub-directories - models with cif-files and out with out-files \n",
    "mmcif    = '/home/baulin/Desktop/urs2/urslib2/data/'\n",
    "\n",
    "# Two example filenames\n",
    "pdb = '1ffk.cif1'\n",
    "out = '1ffk.out1'\n",
    "\n",
    "# Path + filename\n",
    "pdbmodel = mmcif+'models/'+pdb\n",
    "outmodel = mmcif+'out/'+out\n",
    "\n",
    "# If required cif-file exists:\n",
    "if os.path.exists(pdbmodel):\n",
    "    \n",
    "    # Create out-file if it does not exist\n",
    "    if not os.path.exists(outmodel):\n",
    "        \n",
    "        DSSR.run(pdbmodel, mmcif+'out/')\n",
    "        \n",
    "    # Create the structure object from the two files\n",
    "    model = RSS.SecStruct(pdbmodel,outmodel)\n"
   ]
  },
  {
   "cell_type": "code",
   "execution_count": 13,
   "metadata": {},
   "outputs": [
    {
     "data": {
      "text/plain": [
       "dict_keys(['0', '9', 'A', 'B', 'C', 'D', 'E', 'F', 'G', 'H', 'I', 'J', 'K', 'L', 'M', 'N', 'O', 'P', 'Q', 'R', 'S', 'T', 'U', 'V', 'W', 'X', 'Y', 'Z', '1'])"
      ]
     },
     "execution_count": 13,
     "metadata": {},
     "output_type": "execute_result"
    }
   ],
   "source": [
    "model.chains.keys()"
   ]
  },
  {
   "cell_type": "code",
   "execution_count": 14,
   "metadata": {},
   "outputs": [
    {
     "name": "stdout",
     "output_type": "stream",
     "text": [
      "Help on function GetRfamInfo in module urslib2.Rfam:\n",
      "\n",
      "GetRfamInfo(path_to_rfam_files='', update=False, rfam_ftp='ftp://ftp.ebi.ac.uk/pub/databases/Rfam/CURRENT/database_files/')\n",
      "    Parameters:\n",
      "        path_to_rfam_files - path to family.txt and pdb_full_region.txt (by default - working directory)\n",
      "        update - True/False - download new family.txt and pdb_full_region.txt\n",
      "        rfam_ftp - source URL for Rfam files\n",
      "    Returns:\n",
      "        dictionary {PDB-ID: {CHAIN: RFAM_INFO}}\n",
      "\n"
     ]
    }
   ],
   "source": [
    "help(Rfam.GetRfamInfo)"
   ]
  },
  {
   "cell_type": "code",
   "execution_count": 15,
   "metadata": {},
   "outputs": [
    {
     "data": {
      "text/plain": [
       "['RF02540', 'LSU_rRNA_archaea', 'Archaeal large subunit ribosomal RNA']"
      ]
     },
     "execution_count": 15,
     "metadata": {},
     "output_type": "execute_result"
    }
   ],
   "source": [
    "# Get Rfam annotations for RNA chains from PDB files\n",
    "\n",
    "rfam = GetRfamInfo()\n",
    "rfam['1ffk']['0']"
   ]
  },
  {
   "cell_type": "code",
   "execution_count": null,
   "metadata": {},
   "outputs": [],
   "source": []
  }
 ],
 "metadata": {
  "kernelspec": {
   "display_name": "Python 3",
   "language": "python",
   "name": "python3"
  },
  "language_info": {
   "codemirror_mode": {
    "name": "ipython",
    "version": 3
   },
   "file_extension": ".py",
   "mimetype": "text/x-python",
   "name": "python",
   "nbconvert_exporter": "python",
   "pygments_lexer": "ipython3",
   "version": "3.8.5"
  }
 },
 "nbformat": 4,
 "nbformat_minor": 4
}
