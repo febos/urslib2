{
 "cells": [
  {
   "cell_type": "code",
   "execution_count": 1,
   "metadata": {},
   "outputs": [],
   "source": [
    "from urslib2 import RSS, DSSR, SplitmmCIF, Rfam\n",
    "import os"
   ]
  },
  {
   "cell_type": "code",
   "execution_count": 9,
   "metadata": {},
   "outputs": [
    {
     "name": "stdout",
     "output_type": "stream",
     "text": [
      "1/1 1ffk.cif is successfully divided into models.\n",
      "Time: 0 min 1 sec\n"
     ]
    }
   ],
   "source": [
    "## Create models from files\n",
    "\n",
    "path_to_files = '/home/baulin/Desktop/urs2/urslib2/data/files/'\n",
    "path_to_models = '/home/baulin/Desktop/urs2/urslib2/data/models/'\n",
    "\n",
    "SplitmmCIF.All(path_to_files,path_to_models)\n"
   ]
  },
  {
   "cell_type": "code",
   "execution_count": 2,
   "metadata": {},
   "outputs": [],
   "source": [
    "## Create a model object for a PDB-entry\n",
    "\n",
    "\n",
    "# Data directory, have to contain two sub-directories - models with cif-files and out with out-files \n",
    "mmcif    = '/home/baulin/Desktop/urs2/urslib2/data/'\n",
    "\n",
    "# Two example filenames\n",
    "pdb = '1ffk.cif1'\n",
    "out = '1ffk.out1'\n",
    "\n",
    "# Path + filename\n",
    "pdbmodel = mmcif+'models/'+pdb\n",
    "outmodel = mmcif+'out/'+out\n",
    "\n",
    "# If required cif-file exists:\n",
    "if os.path.exists(pdbmodel):\n",
    "    \n",
    "    # Create out-file if it does not exist\n",
    "    if not os.path.exists(outmodel):\n",
    "        \n",
    "        DSSR.run(pdbmodel, mmcif+'out/')\n",
    "        \n",
    "    # Create the structure object from the two files\n",
    "    model = RSS.SecStruct(pdbmodel,outmodel)\n"
   ]
  },
  {
   "cell_type": "code",
   "execution_count": 13,
   "metadata": {},
   "outputs": [
    {
     "data": {
      "text/plain": [
       "dict_keys(['0', '9', 'A', 'B', 'C', 'D', 'E', 'F', 'G', 'H', 'I', 'J', 'K', 'L', 'M', 'N', 'O', 'P', 'Q', 'R', 'S', 'T', 'U', 'V', 'W', 'X', 'Y', 'Z', '1'])"
      ]
     },
     "execution_count": 13,
     "metadata": {},
     "output_type": "execute_result"
    }
   ],
   "source": [
    "model.chains.keys()"
   ]
  },
  {
   "cell_type": "code",
   "execution_count": 14,
   "metadata": {},
   "outputs": [
    {
     "name": "stdout",
     "output_type": "stream",
     "text": [
      "Help on function GetRfamInfo in module urslib2.Rfam:\n",
      "\n",
      "GetRfamInfo(path_to_rfam_files='', update=False, rfam_ftp='ftp://ftp.ebi.ac.uk/pub/databases/Rfam/CURRENT/database_files/')\n",
      "    Parameters:\n",
      "        path_to_rfam_files - path to family.txt and pdb_full_region.txt (by default - working directory)\n",
      "        update - True/False - download new family.txt and pdb_full_region.txt\n",
      "        rfam_ftp - source URL for Rfam files\n",
      "    Returns:\n",
      "        dictionary {PDB-ID: {CHAIN: RFAM_INFO}}\n",
      "\n"
     ]
    }
   ],
   "source": [
    "help(Rfam.GetRfamInfo)"
   ]
  },
  {
   "cell_type": "code",
   "execution_count": 15,
   "metadata": {},
   "outputs": [
    {
     "data": {
      "text/plain": [
       "['RF02540', 'LSU_rRNA_archaea', 'Archaeal large subunit ribosomal RNA']"
      ]
     },
     "execution_count": 15,
     "metadata": {},
     "output_type": "execute_result"
    }
   ],
   "source": [
    "## Get Rfam annotations for RNA chains from PDB files\n",
    "\n",
    "rfam = GetRfamInfo()\n",
    "rfam['1ffk']['0']"
   ]
  },
  {
   "cell_type": "code",
   "execution_count": null,
   "metadata": {},
   "outputs": [],
   "source": []
  },
  {
   "cell_type": "code",
   "execution_count": 3,
   "metadata": {},
   "outputs": [
    {
     "name": "stdout",
     "output_type": "stream",
     "text": [
      "Help on function Atompairs in module urslib2.RSS:\n",
      "\n",
      "Atompairs(model, type1='', type2='', dist=4)\n",
      "    Parameters:\n",
      "        model - object of PDB-entry, created with SecStruct function\n",
      "        type1, type2 - strings of molecule types: R = RNA, D = DNA, P = Protein, L = Ligand, M = Metal, W = Water.\n",
      "            Example: type1 = 'RD', type2 = 'MW' - find all contacts of nucleic acid atoms with metals and water\n",
      "        dist - maximal distance in angstroms\n",
      "    Returns:\n",
      "        list of pairs of close atoms of form {DSSR1:     residue1-dssrid,\n",
      "                                              DSSR2:     residue2-dssrid,\n",
      "                                            'atom1':         atomname1,\n",
      "                                            'atom2':         atomname2,\n",
      "                                             'dist':           distance,\n",
      "                                             'type':  restype1+restype2}\n",
      "\n"
     ]
    }
   ],
   "source": [
    "## Get a set of pairs of close atoms\n",
    "\n",
    "help(RSS.Atompairs)"
   ]
  },
  {
   "cell_type": "code",
   "execution_count": 20,
   "metadata": {},
   "outputs": [
    {
     "name": "stdout",
     "output_type": "stream",
     "text": [
      "{'DSSR1': '0.G.13.', 'DSSR2': 'O.GLN.61.', 'atom1': 'OP1', 'atom2': 'CA', 'dist': 4.302435821717742, 'type': 'RP'}\n",
      "{'DSSR1': '0.U.19.', 'DSSR2': 'O.SER.5.', 'atom1': \"C2'\", 'atom2': 'CA', 'dist': 4.354945120205287, 'type': 'RP'}\n",
      "{'DSSR1': '0.U.19.', 'DSSR2': 'O.SER.5.', 'atom1': \"O2'\", 'atom2': 'CA', 'dist': 3.3868513401092586, 'type': 'RP'}\n",
      "{'DSSR1': '0.G.20.', 'DSSR2': 'O.SER.5.', 'atom1': \"C5'\", 'atom2': 'CA', 'dist': 4.45814232612642, 'type': 'RP'}\n",
      "{'DSSR1': '0.G.20.', 'DSSR2': 'O.SER.5.', 'atom1': \"C4'\", 'atom2': 'CA', 'dist': 4.0119482798261386, 'type': 'RP'}\n"
     ]
    }
   ],
   "source": [
    "atompairs = RSS.Atompairs(model, type1 = 'R', type2 = 'P', dist = 4.5)\n",
    "\n",
    "for pair in atompairs[:5]:\n",
    "    \n",
    "    print(pair)"
   ]
  },
  {
   "cell_type": "code",
   "execution_count": 34,
   "metadata": {},
   "outputs": [
    {
     "name": "stdout",
     "output_type": "stream",
     "text": [
      "0.A.52. S\n",
      "0.C.53. S\n",
      "0.G.54. S\n",
      "0.U.55. S\n",
      "0.G.56. HP\n",
      "0.C.57. SHP\n",
      "0.C.58. SHP\n",
      "0.A.59. HPIC\n",
      "0.A.60. HPIC\n",
      "0.G.61. SHP\n",
      "\n",
      "\n",
      "0.U.55. 0.G.54. SM\n",
      "0.G.56. 0.G.61. LC\n",
      "0.U.55. 0.G.61. NR\n",
      "0.G.47. 0.G.66. LR\n",
      "O.SER.5. 0.G.66. NA\n"
     ]
    }
   ],
   "source": [
    "## useful utilities\n",
    "\n",
    "# dssrnucls\n",
    "\n",
    "# NuclSS function: input = DSSR-ID, output = Secondary Structure Element(s):\n",
    "# S = Stem, \n",
    "# H = Hairpin, B = Bulge, I = Internal loop, J = Multiple junction\n",
    "# C = Classical, I = Isolated, P = Pseudoknotted\n",
    "\n",
    "for n in model.chains['0']['RES'][50:60]:\n",
    "    \n",
    "    print(n['DSSR'], model.NuclSS(n['DSSR']))\n",
    "\n",
    "\n",
    "# NuclRelation function: input = two DSSR-IDs, output = relative position of two residues \n",
    "# within RNA secondary structure:\n",
    "# SM - same, i.e. within the same element, \n",
    "# LC - local, i.e. adjacent stem and loop,\n",
    "# NR - neighbor, i.e. neighbor stems (one loop apart) or neighbor loops (one stem apart),\n",
    "# LR - long-range, i.e. from distant elements\n",
    "# NA - n/a\n",
    "\n",
    "print('\\n')\n",
    "\n",
    "print('0.U.55.','0.G.54.',model.NuclRelation('0.U.55.','0.G.54.'))\n",
    "print('0.G.56.','0.G.61.',model.NuclRelation('0.G.56.','0.G.61.'))\n",
    "print('0.U.55.','0.G.61.',model.NuclRelation('0.U.55.','0.G.61.'))\n",
    "print('0.G.47.','0.G.66.',model.NuclRelation('0.G.47.','0.G.66.'))\n",
    "print('O.SER.5.','0.G.66.',model.NuclRelation('O.SER.5.','0.G.66.'))\n",
    "\n",
    "\n",
    "# SeqDist"
   ]
  },
  {
   "cell_type": "code",
   "execution_count": null,
   "metadata": {},
   "outputs": [],
   "source": [
    "## DSSR motifs\n",
    "\n",
    "#nbphbs, base-pairs, stacks, a-minors, base-triples, ribose-zippers etc."
   ]
  },
  {
   "cell_type": "code",
   "execution_count": 23,
   "metadata": {},
   "outputs": [
    {
     "data": {
      "text/plain": [
       "'NR'"
      ]
     },
     "execution_count": 23,
     "metadata": {},
     "output_type": "execute_result"
    }
   ],
   "source": [
    "model.NuclRelation('0.U.55.','0.G.61.')"
   ]
  },
  {
   "cell_type": "code",
   "execution_count": null,
   "metadata": {},
   "outputs": [],
   "source": []
  },
  {
   "cell_type": "code",
   "execution_count": null,
   "metadata": {},
   "outputs": [],
   "source": []
  }
 ],
 "metadata": {
  "kernelspec": {
   "display_name": "Python 3",
   "language": "python",
   "name": "python3"
  },
  "language_info": {
   "codemirror_mode": {
    "name": "ipython",
    "version": 3
   },
   "file_extension": ".py",
   "mimetype": "text/x-python",
   "name": "python",
   "nbconvert_exporter": "python",
   "pygments_lexer": "ipython3",
   "version": "3.8.5"
  }
 },
 "nbformat": 4,
 "nbformat_minor": 4
}
